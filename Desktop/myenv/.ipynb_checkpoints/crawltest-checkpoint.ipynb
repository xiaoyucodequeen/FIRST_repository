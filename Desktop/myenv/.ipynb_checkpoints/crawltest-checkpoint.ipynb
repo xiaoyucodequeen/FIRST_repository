{
 "cells": [
  {
   "cell_type": "code",
   "execution_count": 47,
   "id": "7c56ad7b-3643-48b5-b131-6a2c24fa7793",
   "metadata": {},
   "outputs": [],
   "source": [
    "import unittest\n",
    "import requests\n",
    "import re\n",
    "import csv\n",
    "import time\n",
    "from unittest.mock import patch, MagicMock"
   ]
  },
  {
   "cell_type": "code",
   "execution_count": 48,
   "id": "0737921e-fe31-454f-9ff9-4085901cc879",
   "metadata": {},
   "outputs": [],
   "source": [
    "# 爬虫-单元测试"
   ]
  },
  {
   "cell_type": "code",
   "execution_count": 49,
   "id": "48cd4946-d4ed-4a1c-b881-462db9d5c2e8",
   "metadata": {},
   "outputs": [],
   "source": [
    "# 被测试的爬虫代码，这里为了简化，只测试所爬取的第一页\n",
    "def crawl_github():\n",
    "    base_url = \"https://github.com/crystal-lang/crystal/issues?page={}\"\n",
    "\n",
    "    headers = {\n",
    "        'Cookie': '_device_id=4fa68362950d4d06252c186eaad61d85; _octo=GH1.1.549837167.1736940028; saved_user_sessions=187375867%3AIUsH8ag-p_jicReXL3fgh2NEynKEClXAta4lRW9NOIYjp8_J; user_session=IUsH8ag-p_jicReXL3fgh2NEynKEClXAta4lRW9NOIYjp8_J; __Host-user_session_same_site=IUsH8ag-p_jicReXL3fgh2NEynKEClXAta4lRW9NOIYjp8_J; logged_in=yes; dotcom_user=xiaoyucodequeen; color_mode=%7B%22color_mode%22%3A%22auto%22%2C%22light_theme%22%3A%7B%22name%22%3A%22light%22%2C%22color_mode%22%3A%22light%22%7D%2C%22dark_theme%22%3A%7B%22name%22%3A%22dark%22%2C%22color_mode%22%3A%22dark%22%7D%7D; cpu_bucket=xlg; preferred_color_mode=dark; tz=Asia%2FShanghai; _gh_sess=R4oZPumE2ozdFyeDlinh%2FkUeMKGqsxKWvJmyZRQr4L9cJaxN9XHOehx7JUqF5e52sbnIkvwdxxquSH7MMySuZEc%2FWZtogBR85kaq8WVjgR4Aygs93pAI9xdKVs8LtJAKi0JDntxdztGfcuR611oaBjoYl33dh4FvKXza9NxmGw8llOyyQGSisL1vDM4Cz8njsN%2F6QXoE7VXwh%2BXDy7aV7zrFEmyOwd1Qvr8BeiTwcqHCbh549KpwIMywhWNSRO0i%2BxNutZI1zuBsusvv388Fa8iS%2BaEZ3J0QsH4YmWDOgsA9nuteu04ik6rDcQVEK4VxAWYzB6bjVl%2BFg8BcqMEoSLVPDA6UJpGB2speudf7w4sVy5zflzvk3%2BG70zo2%2BnWH%2FR6qJqn%2Bs5TEiv48ypW%2FKbKSUKg%3D--QyIaHK4UzwjzpghW--%2BFUuMXV7jiZiVHQbkUV%2F0w%3D%3D',\n",
    "        'User-Agent': 'Mozilla/5.0 (Windows NT 10.0; Win64; x64) AppleWebKit/537.36 (KHTML, like Gecko) Chrome/131.0.0.0 Safari/537.36 Edg/131.0.0.0'\n",
    "    }\n",
    "    \n",
    "    # 存储数据\n",
    "    data = []\n",
    "    \n",
    "    # 循环爬取每一页\n",
    "    for page in range(1, 2):  \n",
    "        #print(f\"正在爬取第 {page} 页...\")\n",
    "        url = base_url.format(page)\n",
    "    \n",
    "        # 发送 GET 请求\n",
    "        response = requests.get(url=url, headers=headers, verify=False)\n",
    "    \n",
    "        if response.status_code != 200:\n",
    "            print(f\"请求失败，状态码: {response.status_code}\")\n",
    "            continue\n",
    "    \n",
    "        content = response.content.decode('utf8')\n",
    "    \n",
    "        update_content_temp = re.findall('<span class=\"Text__StyledText-sc-17v1xeu-0 hWqAbU\">(.*?)</span>', content, re.DOTALL)\n",
    "        update_type = re.findall(\n",
    "            '<div class=\"Box-sc-g0xbh4-0 TrailingBadge-module__container--gg6pc\" data-listview-component=\"trailing-badge\">.*?<span class=\"Text__StyledText-sc-17v1xeu-0 hWqAbU\">(.*?)</span>',\n",
    "            content, re.DOTALL)\n",
    "        update_content = list(set(update_content_temp)-set(update_type))\n",
    "        view_count = re.findall('<span class=\"issue-item-module__defaultNumberDescription--GXzri\">.*?<!.*?>(.*?)</span>',\n",
    "                                content, re.DOTALL)\n",
    "        update_time = re.findall('<relative-time class=\"sc-aXZVg\".*?<!.*?>(.*?)</relative-time>', content, re.DOTALL)\n",
    "    \n",
    "        for i in range(len(update_content)):\n",
    "            data.append({\n",
    "                'Update Content': update_content[i],\n",
    "                'Update Type': update_type[i] if i < len(update_type) else None,\n",
    "                'View Count': view_count[i] if i < len(view_count) else None,\n",
    "                'Update Time': update_time[i] if i < len(update_time) else None,\n",
    "            })\n",
    "    \n",
    "        time.sleep(1)  # 延迟1秒以避免过于频繁的请求\n",
    "    return data\n"
   ]
  },
  {
   "cell_type": "code",
   "execution_count": 50,
   "id": "b578736b-bd87-4c9e-b404-81fbeb871e5c",
   "metadata": {},
   "outputs": [
    {
     "name": "stderr",
     "output_type": "stream",
     "text": [
      "D:\\python\\Lib\\site-packages\\urllib3\\connectionpool.py:1099: InsecureRequestWarning: Unverified HTTPS request is being made to host '127.0.0.1'. Adding certificate verification is strongly advised. See: https://urllib3.readthedocs.io/en/latest/advanced-usage.html#tls-warnings\n",
      "  warnings.warn(\n"
     ]
    },
    {
     "data": {
      "text/plain": [
       "[{'Update Content': 'splatting into variadic C function yields a BUG',\n",
       "  'Update Type': 'good first issue',\n",
       "  'View Count': '15356',\n",
       "  'Update Time': 'Jan 19, 2025'},\n",
       " {'Update Content': 'Codegen bug with duplicate ivar declaration and inheriting from generic instance type',\n",
       "  'Update Type': 'kind:bug',\n",
       "  'View Count': '15353',\n",
       "  'Update Time': 'Jan 17, 2025'},\n",
       " {'Update Content': 'Expose method to process HTTP requests on HTTP::Server',\n",
       "  'Update Type': 'topic:tools:docs-generator',\n",
       "  'View Count': '15352',\n",
       "  'Update Time': 'Jan 17, 2025'},\n",
       " {'Update Content': 'Unhelpful error message (<code>Error: unexpected token: \"(\"</code>) when defining method that starts with a capital letter.',\n",
       "  'Update Type': 'kind:bug',\n",
       "  'View Count': '15342',\n",
       "  'Update Time': 'Jan 14, 2025'},\n",
       " {'Update Content': '<code>Enumerable#sum(&amp;)</code> fails with certain block arguments',\n",
       "  'Update Type': 'topic:compiler:cli',\n",
       "  'View Count': '15338',\n",
       "  'Update Time': 'Jan 12, 2025'},\n",
       " {'Update Content': 'Better handling of extra PCRE2 regex options',\n",
       "  'Update Type': 'status:discussion',\n",
       "  'View Count': '15334',\n",
       "  'Update Time': 'Jan 9, 2025'},\n",
       " {'Update Content': \"C lib constants and Enum members currently don't allow leading underscores\",\n",
       "  'Update Type': 'topic:stdlib:networking',\n",
       "  'View Count': '15322',\n",
       "  'Update Time': 'Jan 6, 2025'},\n",
       " {'Update Content': 'Implement RFC 0002: ExecutionContext [EPIC]',\n",
       "  'Update Type': 'kind:feature',\n",
       "  'View Count': '15321',\n",
       "  'Update Time': 'Jan 6, 2025'},\n",
       " {'Update Content': 'Cannot <code>:nodoc:</code> <code>def_clone</code> macro',\n",
       "  'Update Type': 'topic:multithreading',\n",
       "  'View Count': '15320',\n",
       "  'Update Time': 'Jan 3, 2025'},\n",
       " {'Update Content': 'LLVM version in <code>compiler --version</code> may be inaccurate',\n",
       "  'Update Type': 'tough-cookie',\n",
       "  'View Count': '15319',\n",
       "  'Update Time': 'Jan 3, 2025'},\n",
       " {'Update Content': 'Add parameter and return type restrictions to all stdlib public methods',\n",
       "  'Update Type': 'kind:bug',\n",
       "  'View Count': '15317',\n",
       "  'Update Time': 'Jan 1, 2025'},\n",
       " {'Update Content': 'File.match? has an issue with paths',\n",
       "  'Update Type': 'topic:compiler:codegen',\n",
       "  'View Count': '15316',\n",
       "  'Update Time': 'Dec 29, 2024'}]"
      ]
     },
     "execution_count": 50,
     "metadata": {},
     "output_type": "execute_result"
    }
   ],
   "source": [
    "data = crawl_github()\n",
    "data"
   ]
  },
  {
   "cell_type": "code",
   "execution_count": 51,
   "id": "9b202428-5980-4b4e-a4b1-130c26bd28b6",
   "metadata": {},
   "outputs": [
    {
     "data": {
      "text/plain": [
       "12"
      ]
     },
     "execution_count": 51,
     "metadata": {},
     "output_type": "execute_result"
    }
   ],
   "source": [
    "length = len(data)\n",
    "length"
   ]
  },
  {
   "cell_type": "code",
   "execution_count": 55,
   "id": "81429212-446b-43b9-bd0b-64c90c653a75",
   "metadata": {},
   "outputs": [],
   "source": [
    "# 异常处理--请求失败处理\n",
    "# 检查爬取数据过程中出现异常时，是否给予正确的错误提示\n",
    "class TestGithubCrawlerException(unittest.TestCase):\n",
    "    @patch('requests.get')\n",
    "    def test_request_failure(self, mock_get):\n",
    "        mock_get.return_value.status_code = 404\n",
    "        # 调用 crawl_github 并存储打印输出\n",
    "        import io\n",
    "        from contextlib import redirect_stdout\n",
    "        f = io.StringIO()\n",
    "        with redirect_stdout(f):\n",
    "            crawl_github()\n",
    "        output = f.getvalue()\n",
    "        # 检查是否打印了 \"请求失败\"\n",
    "        self.assertIn(\"请求失败\", output)"
   ]
  },
  {
   "cell_type": "code",
   "execution_count": 56,
   "id": "ccb27a0a-54b4-48ee-8fae-60ecd21d56c9",
   "metadata": {},
   "outputs": [],
   "source": [
    "# 测试类--单元测试\n",
    "class TestGithubCrawler(unittest.TestCase):\n",
    "    # 模拟requests.get函数，避免真正的网络请求\n",
    "    @patch('requests.get')\n",
    "    def test_crawl_github(self, mock_get):\n",
    "        # 模拟响应\n",
    "        mock_response = MagicMock()\n",
    "        mock_response.status_code = 200\n",
    "        mock_response.content = b'<span class=\"Text__StyledText-sc-17v1xeu-0 hWqAbU\">Test Content</span><div class=\"Box-sc-g0xbh4-0 TrailingBadge-module__container--gg6pc\" data-listview-component=\"trailing-badge\"><span class=\"Text__StyledText-sc-17v1xeu-0 hWqAbU\">Test Type</span></div><span class=\"issue-item-module__defaultNumberDescription--GXzri\">100</span><relative-time class=\"sc-aXZVg\">2025-01-20</relative-time>'\n",
    "        mock_get.return_value = mock_response\n",
    "\n",
    "        result = data\n",
    "        self.assertEqual(len(data), 12)\n",
    "        # 对爬取结果的一到三行进行测试\n",
    "        self.assertEqual(data[0]['Update Content'], 'splatting into variadic C function yields a BUG')\n",
    "        self.assertEqual(data[0]['Update Type'], 'good first issue')\n",
    "        self.assertEqual(data[0]['View Count'], '15356')\n",
    "        self.assertEqual(data[0]['Update Time'], 'Jan 19, 2025')\n",
    "\n",
    "        self.assertEqual(data[1]['Update Content'], 'Codegen bug with duplicate ivar declaration and inheriting from generic instance type')\n",
    "        self.assertEqual(data[1]['Update Type'], 'kind:bug')\n",
    "        self.assertEqual(data[1]['View Count'], '15353')\n",
    "        self.assertEqual(data[1]['Update Time'], 'Jan 17, 2025')\n",
    "\n",
    "        self.assertEqual(data[2]['Update Content'], 'Expose method to process HTTP requests on HTTP::Server')\n",
    "        self.assertEqual(data[2]['Update Type'], 'topic:tools:docs-generator')\n",
    "        self.assertEqual(data[2]['View Count'], '15352')\n",
    "        self.assertEqual(data[2]['Update Time'], 'Jan 17, 2025')"
   ]
  },
  {
   "cell_type": "code",
   "execution_count": 57,
   "id": "3529ced9-e2d2-4d25-9c6b-a36d54aa7d77",
   "metadata": {},
   "outputs": [
    {
     "name": "stderr",
     "output_type": "stream",
     "text": [
      "..\n",
      "----------------------------------------------------------------------\n",
      "Ran 2 tests in 0.002s\n",
      "\n",
      "OK\n"
     ]
    }
   ],
   "source": [
    "# 运行单元测试\n",
    "if __name__ == '__main__':\n",
    "    unittest.main(argv=['first-arg-is-ignored'], exit=False)"
   ]
  },
  {
   "cell_type": "code",
   "execution_count": null,
   "id": "cb4a2e39-6d7f-478a-b365-e8cacdfa8ada",
   "metadata": {},
   "outputs": [],
   "source": []
  }
 ],
 "metadata": {
  "kernelspec": {
   "display_name": "Python 3 (ipykernel)",
   "language": "python",
   "name": "python3"
  },
  "language_info": {
   "codemirror_mode": {
    "name": "ipython",
    "version": 3
   },
   "file_extension": ".py",
   "mimetype": "text/x-python",
   "name": "python",
   "nbconvert_exporter": "python",
   "pygments_lexer": "ipython3",
   "version": "3.12.6"
  }
 },
 "nbformat": 4,
 "nbformat_minor": 5
}
